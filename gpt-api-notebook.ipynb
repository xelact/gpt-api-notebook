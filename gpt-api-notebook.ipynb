{
 "cells": [
  {
   "cell_type": "code",
   "execution_count": 1,
   "id": "32a4a6a2",
   "metadata": {},
   "outputs": [
    {
     "name": "stdout",
     "output_type": "stream",
     "text": [
      "\n",
      "\u001b[1m[\u001b[0m\u001b[34;49mnotice\u001b[0m\u001b[1;39;49m]\u001b[0m\u001b[39;49m A new release of pip available: \u001b[0m\u001b[31;49m22.3\u001b[0m\u001b[39;49m -> \u001b[0m\u001b[32;49m23.2.1\u001b[0m\n",
      "\u001b[1m[\u001b[0m\u001b[34;49mnotice\u001b[0m\u001b[1;39;49m]\u001b[0m\u001b[39;49m To update, run: \u001b[0m\u001b[32;49mpip install --upgrade pip\u001b[0m\n"
     ]
    }
   ],
   "source": [
    "!pip install openai --quiet"
   ]
  },
  {
   "cell_type": "code",
   "execution_count": 11,
   "id": "664b90de",
   "metadata": {},
   "outputs": [],
   "source": [
    "import openai\n",
    "\n",
    "with open(\"api_key\", \"r\") as f:\n",
    "    openai.api_key = f.read()\n",
    "\n",
    "USE_GPT4 = False"
   ]
  },
  {
   "cell_type": "code",
   "execution_count": 9,
   "id": "6f3786b0",
   "metadata": {},
   "outputs": [],
   "source": [
    "class Conversation:\n",
    "    \"\"\"\n",
    "    This class helps me keep the context of a conversation. It's not\n",
    "    sophisticated at all and it simply regulates the number of messages in the\n",
    "    context window.\n",
    "\n",
    "    You could try something much more involved, like counting the number of\n",
    "    tokens and limiting. Even better: you could use the API to summarize the\n",
    "    context and reduce its length.\n",
    "\n",
    "    But this is simple enough and works well for what I need.\n",
    "    \"\"\"\n",
    "\n",
    "    messages = None\n",
    "\n",
    "    def __init__(self):\n",
    "        # Here is where you can add some personality to your assistant, or\n",
    "        # play with different prompting techniques to improve your results.\n",
    "        Conversation.messages = [\n",
    "            {\n",
    "                \"role\": \"system\",\n",
    "                \"content\": (\n",
    "                    \"You are a helpful, and concise assistant.\"\n",
    "                ),\n",
    "            }\n",
    "        ]\n",
    "\n",
    "\n",
    "    def answer(self, prompt):\n",
    "        \"\"\"\n",
    "        This is the function I use to ask questions.\n",
    "        \"\"\"\n",
    "        self._update(\"user\", prompt)\n",
    "\n",
    "        response = openai.ChatCompletion.create(\n",
    "            model=\"gpt-4\" if USE_GPT4 else \"gpt-3.5-turbo-0613\",\n",
    "            messages=Conversation.messages,\n",
    "            temperature=0,\n",
    "        )\n",
    "\n",
    "        self._update(\"assistant\", response.choices[0].message.content)\n",
    "\n",
    "        return response.choices[0].message.content\n",
    "\n",
    "    def _update(self, role, content):\n",
    "        Conversation.messages.append({\n",
    "            \"role\": role,\n",
    "            \"content\": content,\n",
    "        })\n",
    "\n",
    "        # This is a rough way to keep the context size manageable.\n",
    "        if len(Conversation.messages) > 20:\n",
    "            Conversation.messages.pop(0)"
   ]
  },
  {
   "cell_type": "code",
   "execution_count": 7,
   "id": "99f5b67c",
   "metadata": {},
   "outputs": [],
   "source": [
    "prompt = \"\"\"\n",
    "How can I change the log level of a Flask application at runtime?\n",
    "\"\"\""
   ]
  },
  {
   "cell_type": "code",
   "execution_count": 13,
   "id": "ac838b68",
   "metadata": {},
   "outputs": [
    {
     "name": "stdout",
     "output_type": "stream",
     "text": [
      "To change the log level of a Flask application at runtime, you can use the `app.logger` object provided by Flask. Here's how you can do it:\n",
      "\n",
      "1. Import the necessary modules:\n",
      "```python\n",
      "from flask import Flask\n",
      "import logging\n",
      "```\n",
      "\n",
      "2. Create a Flask application:\n",
      "```python\n",
      "app = Flask(__name__)\n",
      "```\n",
      "\n",
      "3. Set the log level:\n",
      "```python\n",
      "app.logger.setLevel(logging.DEBUG)\n",
      "```\n",
      "Replace `logging.DEBUG` with the desired log level, such as `logging.INFO`, `logging.WARNING`, `logging.ERROR`, etc.\n",
      "\n",
      "4. Run the Flask application:\n",
      "```python\n",
      "if __name__ == '__main__':\n",
      "    app.run()\n",
      "```\n",
      "\n",
      "Now, when you run your Flask application, it will log messages according to the set log level. You can change the log level at any time during runtime by calling `app.logger.setLevel()` with the desired log level.\n"
     ]
    }
   ],
   "source": [
    "conversation = Conversation()\n",
    "\n",
    "print(conversation.answer(prompt))"
   ]
  },
  {
   "cell_type": "code",
   "execution_count": 17,
   "id": "50ff9e12",
   "metadata": {},
   "outputs": [
    {
     "name": "stdout",
     "output_type": "stream",
     "text": [
      "If your Flask app is already running and you want to change the log level from ERROR to DEBUG while it is running, you can use the `app.logger.setLevel()` method to update the log level dynamically.\n",
      "\n",
      "Here's an example of how you can achieve this:\n",
      "\n",
      "1. Import the necessary modules:\n",
      "```python\n",
      "from flask import Flask\n",
      "import logging\n",
      "```\n",
      "\n",
      "2. Create a Flask application:\n",
      "```python\n",
      "app = Flask(__name__)\n",
      "```\n",
      "\n",
      "3. Set the initial log level to ERROR:\n",
      "```python\n",
      "app.logger.setLevel(logging.ERROR)\n",
      "```\n",
      "\n",
      "4. Define a route to change the log level:\n",
      "```python\n",
      "@app.route('/log-level/<level>')\n",
      "def set_log_level(level):\n",
      "    if level == 'debug':\n",
      "        app.logger.setLevel(logging.DEBUG)\n",
      "    elif level == 'info':\n",
      "        app.logger.setLevel(logging.INFO)\n",
      "    elif level == 'warning':\n",
      "        app.logger.setLevel(logging.WARNING)\n",
      "    elif level == 'error':\n",
      "        app.logger.setLevel(logging.ERROR)\n",
      "    return f'Log level set to {level.upper()}'\n",
      "```\n",
      "\n",
      "5. Run the Flask application:\n",
      "```python\n",
      "if __name__ == '__main__':\n",
      "    app.run()\n",
      "```\n",
      "\n",
      "Now, you can make a request to the `/log-level/<level>` endpoint to change the log level dynamically. For example, if you want to change the log level to DEBUG, you can make a GET request to `http://localhost:5000/log-level/debug`. Similarly, you can change it to INFO, WARNING, or ERROR by replacing `<level>` with the desired log level.\n",
      "\n",
      "Note that changing the log level dynamically like this will affect all subsequent log messages in your Flask application.\n"
     ]
    }
   ],
   "source": [
    "prompt = \"\"\"\n",
    "But the problem is that the Flask app is already running\"\"\"\n",
    "\n",
    "print(conversation.answer(prompt))"
   ]
  },
  {
   "cell_type": "code",
   "execution_count": null,
   "id": "a3450b0c",
   "metadata": {},
   "outputs": [],
   "source": []
  }
 ],
 "metadata": {
  "kernelspec": {
   "display_name": "Python 3 (ipykernel)",
   "language": "python",
   "name": "python3"
  },
  "language_info": {
   "codemirror_mode": {
    "name": "ipython",
    "version": 3
   },
   "file_extension": ".py",
   "mimetype": "text/x-python",
   "name": "python",
   "nbconvert_exporter": "python",
   "pygments_lexer": "ipython3",
   "version": "3.11.0"
  }
 },
 "nbformat": 4,
 "nbformat_minor": 5
}
